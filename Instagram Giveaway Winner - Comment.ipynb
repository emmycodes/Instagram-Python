{
    "nbformat_minor": 1, 
    "cells": [
        {
            "source": "# Instagram Giveaway Winner Selector from a Post's Comments", 
            "cell_type": "markdown", 
            "metadata": {
                "collapsed": true
            }
        }, 
        {
            "source": "The purpose of this code is to select a random winner based on a comment on YOUR specific post. This should not be used for private or someone else's Instagram conent.\n<br>Code created by <a href=\"https://github.com/emmycodes/\">@emmycodes</a> in April 2019 | Notebook made with <a href=\"https://www.ibm.com/cloud/watson-studio\">IBM Watson Studio</a>\n<br>Referenced code from Edmund Martin: https://edmundmartin.com/scraping-instagram-with-python/", 
            "cell_type": "markdown", 
            "metadata": {}
        }, 
        {
            "execution_count": null, 
            "cell_type": "code", 
            "metadata": {}, 
            "outputs": [], 
            "source": "import json, requests, random\nfrom bs4 import BeautifulSoup"
        }, 
        {
            "execution_count": null, 
            "cell_type": "code", 
            "metadata": {}, 
            "outputs": [], 
            "source": "# Get link from instagram by going to specific post or click the '...' and copy link.\ninstagram_post = BeautifulSoup(requests.get('INSERT LINK HERE').text, 'html.parser') #Insert link to the left"
        }, 
        {
            "execution_count": null, 
            "cell_type": "code", 
            "metadata": {}, 
            "outputs": [], 
            "source": "#Code to pull only the script with the content of the comments.\nbody = instagram_post.find('body')\nscript = body.find('script')\nscript_string = script.text.strip().replace('window._sharedData =', '').replace(';', '')"
        }, 
        {
            "execution_count": null, 
            "cell_type": "code", 
            "metadata": {}, 
            "outputs": [], 
            "source": "#sub-script pull of the usernames\npost_with_names = json.loads(script_string)[\"entry_data\"][\"PostPage\"][0][\"graphql\"][\"shortcode_media\"][\"edge_media_to_comment\"][\"edges\"]"
        }, 
        {
            "execution_count": null, 
            "cell_type": "code", 
            "metadata": {}, 
            "outputs": [], 
            "source": "#pulling all the usernames that made a comment, removing the author, and selecting one username. \na = 0\nresults = []\n\nwhile True:\n    try:\n        if post_with_names[a][\"node\"][\"owner\"][\"username\"] == 'INSERT HERE TO EXCLUDE AUTHOR COMMENTS': #Be sure to put your username or username of author here to exclude from being selected\n            pass\n        else: results.append(a)\n        a+=1\n    except IndexError:\n        a = \"Done\"\n        if a == \"Done\":\n            break\nresults\nwinner = random.choice(results)\n\nprint (\"The Instagram winner is: \" + post_with_names[winner][\"node\"][\"owner\"][\"username\"] + \"!!!\")"
        }
    ], 
    "metadata": {
        "kernelspec": {
            "display_name": "Python 3.5", 
            "name": "python3", 
            "language": "python"
        }, 
        "language_info": {
            "mimetype": "text/x-python", 
            "nbconvert_exporter": "python", 
            "version": "3.5.5", 
            "name": "python", 
            "file_extension": ".py", 
            "pygments_lexer": "ipython3", 
            "codemirror_mode": {
                "version": 3, 
                "name": "ipython"
            }
        }
    }, 
    "nbformat": 4
}
